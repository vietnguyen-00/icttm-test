{
 "cells": [
  {
   "cell_type": "markdown",
   "metadata": {},
   "source": [
    "This file should only be used to contain the code used to download data by using the selenium \n",
    "\n",
    "and\n",
    "\n",
    "Upload data to minio"
   ]
  },
  {
   "cell_type": "code",
   "execution_count": 1,
   "metadata": {},
   "outputs": [
    {
     "name": "stdout",
     "output_type": "stream",
     "text": [
      "Requirement already satisfied: boto3 in /home/nguyenviet/.pyenv/versions/3.8.10/envs/icctm_env/lib/python3.8/site-packages (1.34.71)\n",
      "Requirement already satisfied: botocore<1.35.0,>=1.34.71 in /home/nguyenviet/.pyenv/versions/3.8.10/envs/icctm_env/lib/python3.8/site-packages (from boto3) (1.34.71)\n",
      "Requirement already satisfied: jmespath<2.0.0,>=0.7.1 in /home/nguyenviet/.pyenv/versions/3.8.10/envs/icctm_env/lib/python3.8/site-packages (from boto3) (1.0.1)\n",
      "Requirement already satisfied: s3transfer<0.11.0,>=0.10.0 in /home/nguyenviet/.pyenv/versions/3.8.10/envs/icctm_env/lib/python3.8/site-packages (from boto3) (0.10.1)\n",
      "Requirement already satisfied: urllib3<1.27,>=1.25.4 in /home/nguyenviet/.pyenv/versions/3.8.10/envs/icctm_env/lib/python3.8/site-packages (from botocore<1.35.0,>=1.34.71->boto3) (1.26.18)\n",
      "Requirement already satisfied: python-dateutil<3.0.0,>=2.1 in /home/nguyenviet/.pyenv/versions/3.8.10/envs/icctm_env/lib/python3.8/site-packages (from botocore<1.35.0,>=1.34.71->boto3) (2.9.0.post0)\n",
      "Requirement already satisfied: six>=1.5 in /home/nguyenviet/.pyenv/versions/3.8.10/envs/icctm_env/lib/python3.8/site-packages (from python-dateutil<3.0.0,>=2.1->botocore<1.35.0,>=1.34.71->boto3) (1.16.0)\n",
      "\u001b[33mWARNING: You are using pip version 21.1.1; however, version 24.0 is available.\n",
      "You should consider upgrading via the '/home/nguyenviet/.pyenv/versions/3.8.10/envs/icctm_env/bin/python -m pip install --upgrade pip' command.\u001b[0m\n",
      "Note: you may need to restart the kernel to use updated packages.\n",
      "Requirement already satisfied: selenium==4.19.0 in /home/nguyenviet/.pyenv/versions/3.8.10/envs/icctm_env/lib/python3.8/site-packages (4.19.0)\n",
      "Requirement already satisfied: typing_extensions>=4.9.0 in /home/nguyenviet/.pyenv/versions/3.8.10/envs/icctm_env/lib/python3.8/site-packages (from selenium==4.19.0) (4.10.0)\n",
      "Requirement already satisfied: urllib3[socks]<3,>=1.26 in /home/nguyenviet/.pyenv/versions/3.8.10/envs/icctm_env/lib/python3.8/site-packages (from selenium==4.19.0) (1.26.18)\n",
      "Requirement already satisfied: trio-websocket~=0.9 in /home/nguyenviet/.pyenv/versions/3.8.10/envs/icctm_env/lib/python3.8/site-packages (from selenium==4.19.0) (0.11.1)\n",
      "Requirement already satisfied: trio~=0.17 in /home/nguyenviet/.pyenv/versions/3.8.10/envs/icctm_env/lib/python3.8/site-packages (from selenium==4.19.0) (0.25.0)\n",
      "Requirement already satisfied: certifi>=2021.10.8 in /home/nguyenviet/.pyenv/versions/3.8.10/envs/icctm_env/lib/python3.8/site-packages (from selenium==4.19.0) (2024.2.2)\n",
      "Requirement already satisfied: sortedcontainers in /home/nguyenviet/.pyenv/versions/3.8.10/envs/icctm_env/lib/python3.8/site-packages (from trio~=0.17->selenium==4.19.0) (2.4.0)\n",
      "Requirement already satisfied: idna in /home/nguyenviet/.pyenv/versions/3.8.10/envs/icctm_env/lib/python3.8/site-packages (from trio~=0.17->selenium==4.19.0) (3.6)\n",
      "Requirement already satisfied: attrs>=23.2.0 in /home/nguyenviet/.pyenv/versions/3.8.10/envs/icctm_env/lib/python3.8/site-packages (from trio~=0.17->selenium==4.19.0) (23.2.0)\n",
      "Requirement already satisfied: outcome in /home/nguyenviet/.pyenv/versions/3.8.10/envs/icctm_env/lib/python3.8/site-packages (from trio~=0.17->selenium==4.19.0) (1.3.0.post0)\n",
      "Requirement already satisfied: exceptiongroup in /home/nguyenviet/.pyenv/versions/3.8.10/envs/icctm_env/lib/python3.8/site-packages (from trio~=0.17->selenium==4.19.0) (1.2.0)\n",
      "Requirement already satisfied: sniffio>=1.3.0 in /home/nguyenviet/.pyenv/versions/3.8.10/envs/icctm_env/lib/python3.8/site-packages (from trio~=0.17->selenium==4.19.0) (1.3.1)\n",
      "Requirement already satisfied: wsproto>=0.14 in /home/nguyenviet/.pyenv/versions/3.8.10/envs/icctm_env/lib/python3.8/site-packages (from trio-websocket~=0.9->selenium==4.19.0) (1.2.0)\n",
      "Requirement already satisfied: PySocks!=1.5.7,<2.0,>=1.5.6 in /home/nguyenviet/.pyenv/versions/3.8.10/envs/icctm_env/lib/python3.8/site-packages (from urllib3[socks]<3,>=1.26->selenium==4.19.0) (1.7.1)\n",
      "Requirement already satisfied: h11<1,>=0.9.0 in /home/nguyenviet/.pyenv/versions/3.8.10/envs/icctm_env/lib/python3.8/site-packages (from wsproto>=0.14->trio-websocket~=0.9->selenium==4.19.0) (0.14.0)\n",
      "\u001b[33mWARNING: You are using pip version 21.1.1; however, version 24.0 is available.\n",
      "You should consider upgrading via the '/home/nguyenviet/.pyenv/versions/3.8.10/envs/icctm_env/bin/python -m pip install --upgrade pip' command.\u001b[0m\n",
      "Note: you may need to restart the kernel to use updated packages.\n"
     ]
    }
   ],
   "source": [
    "%pip install boto3\n",
    "# Libraries maybe you need to install in your environment to use selenium and chromedriver below\n",
    "# Note: Since selenium v4.6.0, the Selenium Manager is incorporated, which provides automated driver \n",
    "# management for Selenium, so there's no need for another chromedriver management library.\n",
    "%pip install selenium==4.19.0"
   ]
  },
  {
   "cell_type": "code",
   "execution_count": 2,
   "metadata": {},
   "outputs": [],
   "source": [
    "import os\n",
    "import boto3\n",
    "import time\n",
    "from selenium import webdriver\n",
    "from selenium.webdriver.common.by import By\n",
    "from selenium.webdriver.support.wait import WebDriverWait\n",
    "from selenium.webdriver.support import expected_conditions as EC"
   ]
  },
  {
   "cell_type": "code",
   "execution_count": 14,
   "metadata": {},
   "outputs": [],
   "source": [
    "# The file download processing section should be placed here\n",
    "# Please change the value of `download_directory` variable if you want to download and unzip in another folder\n",
    "file_url = \"https://drive.google.com/drive/folders/1EImvKyUQ_iJCfd2h-Dxjn_sqPyDV5tFC?usp=sharing\"\n",
    "download_directory = os.getcwd()\n",
    "\n",
    "def wait_for_download(path: str, timeout: int = 10) -> None:\n",
    "    \"\"\"\n",
    "    Wait for download to finish.\n",
    "    If file in `path` argument is not found within timeout, a TimeoutError is raised.\n",
    "\n",
    "    Args\n",
    "    ----\n",
    "    path : str\n",
    "        Path to the intended file\n",
    "    timeout : int (Optional, default 10)\n",
    "        Number of seconds until timeout\n",
    "    \"\"\"\n",
    "\n",
    "    elapsed_time = 0\n",
    "    while elapsed_time < timeout:\n",
    "        file_found = os.path.isfile(path)\n",
    "        if file_found:\n",
    "            return file_found\n",
    "        time.sleep(1)\n",
    "        elapsed_time += 1\n",
    "    raise TimeoutError(\n",
    "        f\"File {path} not found, please check if your path is set correctly\"\n",
    "        \" or your download operation is executed as intended.\"\n",
    "    )\n",
    "\n",
    "\n",
    "# Set default download directory option for the Chrome driver \n",
    "# Note: `download.default_directory` should have a slash '/' in the end in order to work properly\n",
    "chrome_options = webdriver.ChromeOptions()\n",
    "prefs = {\n",
    "    \"download.default_directory\": download_directory+\"/\"\n",
    "}\n",
    "chrome_options.add_experimental_option(\"prefs\", prefs)\n",
    "\n",
    "# Initialize Chrome webdriver with `chrome_options`\n",
    "driver = webdriver.Chrome(options=chrome_options)\n",
    "wait = WebDriverWait(driver, 10)\n",
    "\n",
    "try:\n",
    "    # Access the url using the webdriver\n",
    "    driver.get(file_url)\n",
    "    # Get the file name to check later if the file is downloaded\n",
    "    file_name = (\n",
    "        WebDriverWait(driver, 10)\n",
    "        .until(EC.presence_of_element_located((By.CLASS_NAME, \"KL4NAf\")))\n",
    "        .text\n",
    "    )\n",
    "    # Trigger the download action\n",
    "    element = (\n",
    "        WebDriverWait(driver, 10)\n",
    "        .until(EC.presence_of_element_located((By.CLASS_NAME, \"akerZd\")))\n",
    "        .click()\n",
    "    )\n",
    "    # wait for the download to completed\n",
    "    wait_for_download(f\"{download_directory}/{file_name}\")\n",
    "finally:\n",
    "    # Quit the webdriver whether the download action is success or not\n",
    "    driver.quit()"
   ]
  },
  {
   "cell_type": "code",
   "execution_count": 15,
   "metadata": {},
   "outputs": [
    {
     "name": "stdout",
     "output_type": "stream",
     "text": [
      "Archive:  /home/nguyenviet/Code/personal/icttm-assignment/icttm-test/data.zip\n",
      "  inflating: /home/nguyenviet/Code/personal/icttm-assignment/icttm-test/data.json  \n",
      "  inflating: /home/nguyenviet/Code/personal/icttm-assignment/icttm-test/__MACOSX/._data.json  \n",
      "  inflating: /home/nguyenviet/Code/personal/icttm-assignment/icttm-test/data2.json  \n",
      "  inflating: /home/nguyenviet/Code/personal/icttm-assignment/icttm-test/data3.json  \n"
     ]
    }
   ],
   "source": [
    "# unzip the downloaded file\n",
    "!unzip {download_directory}/{file_name} -d {download_directory}/"
   ]
  },
  {
   "cell_type": "code",
   "execution_count": 16,
   "metadata": {},
   "outputs": [],
   "source": [
    "# Define S3 storage\n",
    "# Please remember to set OBJ_STORAGE_ACCESS_KEY, OBJ_STORAGE_SECRET_KEY and OBJ_STORAGE_ENDPOINT environment variables prior to this step\n",
    "obj_storage_access_key = os.getenv('OBJ_STORAGE_ACCESS_KEY', 'demo-access-key')\n",
    "obj_storage_secret_key = os.getenv('OBJ_STORAGE_SECRET_KEY', 'demo-secret-key')\n",
    "obj_storage_endpoint = os.getenv('OBJ_STORAGE_ENDPOINT', 'http://localhost:9000')"
   ]
  },
  {
   "cell_type": "code",
   "execution_count": 17,
   "metadata": {},
   "outputs": [],
   "source": [
    "# Function to upload file to minio\n",
    "def upload_file_to_minio(file_path, minio_bucket, minio_object_name):\n",
    "    s3c = boto3.resource('s3',\n",
    "                        endpoint_url=obj_storage_endpoint,\n",
    "                        aws_access_key_id=obj_storage_access_key,\n",
    "                        aws_secret_access_key=obj_storage_secret_key,\n",
    "                        config=boto3.session.Config(signature_version='s3v4'),\n",
    "                        verify=False\n",
    "                        )\n",
    "    s3c.Bucket(minio_bucket).upload_file(file_path, minio_object_name)"
   ]
  },
  {
   "cell_type": "code",
   "execution_count": 18,
   "metadata": {},
   "outputs": [],
   "source": [
    "# Upload file to minio\n",
    "upload_file_to_minio('data.json', 'data', 'data-raw/data.json')\n",
    "upload_file_to_minio('data2.json', 'data', 'data-raw/data2.json')\n",
    "upload_file_to_minio('data3.json', 'data', 'data-raw/data3.json')"
   ]
  },
  {
   "cell_type": "code",
   "execution_count": null,
   "metadata": {},
   "outputs": [],
   "source": []
  }
 ],
 "metadata": {
  "kernelspec": {
   "display_name": ".venv",
   "language": "python",
   "name": "python3"
  },
  "language_info": {
   "codemirror_mode": {
    "name": "ipython",
    "version": 3
   },
   "file_extension": ".py",
   "mimetype": "text/x-python",
   "name": "python",
   "nbconvert_exporter": "python",
   "pygments_lexer": "ipython3",
   "version": "3.8.10"
  }
 },
 "nbformat": 4,
 "nbformat_minor": 2
}
